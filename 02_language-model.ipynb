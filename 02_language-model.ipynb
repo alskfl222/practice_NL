{
 "cells": [
  {
   "cell_type": "markdown",
   "metadata": {},
   "source": [
    "https://wikidocs.net/21695"
   ]
  }
 ],
 "metadata": {
  "interpreter": {
   "hash": "6314d822703aa7cf162fc7c7803e8fc35657d9f41960e5c2f29053bf0efc8acd"
  },
  "kernelspec": {
   "display_name": "Python 3.10.4 ('practice_NL')",
   "language": "python",
   "name": "python3"
  },
  "language_info": {
   "name": "python",
   "version": "3.10.4"
  },
  "orig_nbformat": 4
 },
 "nbformat": 4,
 "nbformat_minor": 2
}
